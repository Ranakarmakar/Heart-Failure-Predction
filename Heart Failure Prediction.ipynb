{
 "cells": [
  {
   "cell_type": "markdown",
   "id": "eb9ba58b",
   "metadata": {},
   "source": [
    "# Heart Failure Prediction"
   ]
  },
  {
   "cell_type": "markdown",
   "id": "0980b6fc",
   "metadata": {},
   "source": [
    "## Required Libraries"
   ]
  },
  {
   "cell_type": "code",
   "execution_count": 52,
   "id": "83e5b6df",
   "metadata": {},
   "outputs": [],
   "source": [
    "import numpy\n",
    "import pandas as pd\n",
    "from matplotlib import pyplot as plt\n",
    "from pandas import read_csv\n",
    "from pandas import set_option\n",
    "from pandas.plotting import scatter_matrix\n",
    "from sklearn.preprocessing import StandardScaler\n",
    "from sklearn.model_selection import train_test_split\n",
    "from sklearn.model_selection import KFold\n",
    "from sklearn.model_selection import cross_val_score\n",
    "from sklearn.model_selection import GridSearchCV\n",
    "from sklearn.metrics import classification_report\n",
    "from sklearn.metrics import confusion_matrix\n",
    "from sklearn.metrics import accuracy_score\n",
    "from sklearn.pipeline import Pipeline\n",
    "from sklearn.linear_model import LogisticRegression\n",
    "from sklearn.tree import DecisionTreeClassifier\n",
    "from sklearn.neighbors import KNeighborsClassifier\n",
    "from sklearn.discriminant_analysis import LinearDiscriminantAnalysis\n",
    "from sklearn.naive_bayes import GaussianNB\n",
    "from sklearn.svm import SVC\n",
    "from sklearn.ensemble import AdaBoostClassifier\n",
    "from sklearn.ensemble import GradientBoostingClassifier\n",
    "from sklearn.ensemble import RandomForestClassifier\n",
    "from sklearn.ensemble import ExtraTreesClassifier\n",
    "from sklearn.metrics import r2_score\n",
    "from sklearn.metrics import mean_squared_error\n",
    "from sklearn.tree import DecisionTreeClassifier\n",
    "from sklearn.metrics import classification_report, confusion_matrix\n",
    "from sklearn.metrics import mean_absolute_error\n",
    "from sklearn.metrics import mean_squared_error"
   ]
  },
  {
   "cell_type": "markdown",
   "id": "31a1e2ce",
   "metadata": {},
   "source": [
    "# Importing Dataset"
   ]
  },
  {
   "cell_type": "code",
   "execution_count": 2,
   "id": "1196a6e3",
   "metadata": {
    "scrolled": true
   },
   "outputs": [
    {
     "data": {
      "text/html": [
       "<div>\n",
       "<style scoped>\n",
       "    .dataframe tbody tr th:only-of-type {\n",
       "        vertical-align: middle;\n",
       "    }\n",
       "\n",
       "    .dataframe tbody tr th {\n",
       "        vertical-align: top;\n",
       "    }\n",
       "\n",
       "    .dataframe thead th {\n",
       "        text-align: right;\n",
       "    }\n",
       "</style>\n",
       "<table border=\"1\" class=\"dataframe\">\n",
       "  <thead>\n",
       "    <tr style=\"text-align: right;\">\n",
       "      <th></th>\n",
       "      <th>age</th>\n",
       "      <th>anaemia</th>\n",
       "      <th>creatinine_phosphokinase</th>\n",
       "      <th>diabetes</th>\n",
       "      <th>ejection_fraction</th>\n",
       "      <th>high_blood_pressure</th>\n",
       "      <th>platelets</th>\n",
       "      <th>serum_creatinine</th>\n",
       "      <th>serum_sodium</th>\n",
       "      <th>sex</th>\n",
       "      <th>smoking</th>\n",
       "      <th>time</th>\n",
       "      <th>DEATH_EVENT</th>\n",
       "    </tr>\n",
       "  </thead>\n",
       "  <tbody>\n",
       "    <tr>\n",
       "      <th>0</th>\n",
       "      <td>75.0</td>\n",
       "      <td>0</td>\n",
       "      <td>582</td>\n",
       "      <td>0</td>\n",
       "      <td>20</td>\n",
       "      <td>1</td>\n",
       "      <td>265000.00</td>\n",
       "      <td>1.9</td>\n",
       "      <td>130</td>\n",
       "      <td>1</td>\n",
       "      <td>0</td>\n",
       "      <td>4</td>\n",
       "      <td>1</td>\n",
       "    </tr>\n",
       "    <tr>\n",
       "      <th>1</th>\n",
       "      <td>55.0</td>\n",
       "      <td>0</td>\n",
       "      <td>7861</td>\n",
       "      <td>0</td>\n",
       "      <td>38</td>\n",
       "      <td>0</td>\n",
       "      <td>263358.03</td>\n",
       "      <td>1.1</td>\n",
       "      <td>136</td>\n",
       "      <td>1</td>\n",
       "      <td>0</td>\n",
       "      <td>6</td>\n",
       "      <td>1</td>\n",
       "    </tr>\n",
       "    <tr>\n",
       "      <th>2</th>\n",
       "      <td>65.0</td>\n",
       "      <td>0</td>\n",
       "      <td>146</td>\n",
       "      <td>0</td>\n",
       "      <td>20</td>\n",
       "      <td>0</td>\n",
       "      <td>162000.00</td>\n",
       "      <td>1.3</td>\n",
       "      <td>129</td>\n",
       "      <td>1</td>\n",
       "      <td>1</td>\n",
       "      <td>7</td>\n",
       "      <td>1</td>\n",
       "    </tr>\n",
       "    <tr>\n",
       "      <th>3</th>\n",
       "      <td>50.0</td>\n",
       "      <td>1</td>\n",
       "      <td>111</td>\n",
       "      <td>0</td>\n",
       "      <td>20</td>\n",
       "      <td>0</td>\n",
       "      <td>210000.00</td>\n",
       "      <td>1.9</td>\n",
       "      <td>137</td>\n",
       "      <td>1</td>\n",
       "      <td>0</td>\n",
       "      <td>7</td>\n",
       "      <td>1</td>\n",
       "    </tr>\n",
       "    <tr>\n",
       "      <th>4</th>\n",
       "      <td>65.0</td>\n",
       "      <td>1</td>\n",
       "      <td>160</td>\n",
       "      <td>1</td>\n",
       "      <td>20</td>\n",
       "      <td>0</td>\n",
       "      <td>327000.00</td>\n",
       "      <td>2.7</td>\n",
       "      <td>116</td>\n",
       "      <td>0</td>\n",
       "      <td>0</td>\n",
       "      <td>8</td>\n",
       "      <td>1</td>\n",
       "    </tr>\n",
       "  </tbody>\n",
       "</table>\n",
       "</div>"
      ],
      "text/plain": [
       "    age  anaemia  creatinine_phosphokinase  diabetes  ejection_fraction  \\\n",
       "0  75.0        0                       582         0                 20   \n",
       "1  55.0        0                      7861         0                 38   \n",
       "2  65.0        0                       146         0                 20   \n",
       "3  50.0        1                       111         0                 20   \n",
       "4  65.0        1                       160         1                 20   \n",
       "\n",
       "   high_blood_pressure  platelets  serum_creatinine  serum_sodium  sex  \\\n",
       "0                    1  265000.00               1.9           130    1   \n",
       "1                    0  263358.03               1.1           136    1   \n",
       "2                    0  162000.00               1.3           129    1   \n",
       "3                    0  210000.00               1.9           137    1   \n",
       "4                    0  327000.00               2.7           116    0   \n",
       "\n",
       "   smoking  time  DEATH_EVENT  \n",
       "0        0     4            1  \n",
       "1        0     6            1  \n",
       "2        1     7            1  \n",
       "3        0     7            1  \n",
       "4        0     8            1  "
      ]
     },
     "execution_count": 2,
     "metadata": {},
     "output_type": "execute_result"
    }
   ],
   "source": [
    "dataset=pd.read_csv('heart_failure_clinical_records_dataset.csv')\n",
    "dataset.head()"
   ]
  },
  {
   "cell_type": "markdown",
   "id": "d5102bb4",
   "metadata": {},
   "source": [
    "# Dataset Shape"
   ]
  },
  {
   "cell_type": "code",
   "execution_count": 3,
   "id": "c1bea4fb",
   "metadata": {},
   "outputs": [
    {
     "name": "stdout",
     "output_type": "stream",
     "text": [
      "(299, 13)\n"
     ]
    }
   ],
   "source": [
    "print(dataset.shape)"
   ]
  },
  {
   "cell_type": "markdown",
   "id": "b48768d9",
   "metadata": {},
   "source": [
    "# Data Types"
   ]
  },
  {
   "cell_type": "code",
   "execution_count": 4,
   "id": "3a7f9642",
   "metadata": {},
   "outputs": [
    {
     "name": "stdout",
     "output_type": "stream",
     "text": [
      "age                         float64\n",
      "anaemia                       int64\n",
      "creatinine_phosphokinase      int64\n",
      "diabetes                      int64\n",
      "ejection_fraction             int64\n",
      "high_blood_pressure           int64\n",
      "platelets                   float64\n",
      "serum_creatinine            float64\n",
      "serum_sodium                  int64\n",
      "sex                           int64\n",
      "smoking                       int64\n",
      "time                          int64\n",
      "DEATH_EVENT                   int64\n",
      "dtype: object\n"
     ]
    }
   ],
   "source": [
    "set_option('display.max_rows', 500)\n",
    "print(dataset.dtypes)\n"
   ]
  },
  {
   "cell_type": "markdown",
   "id": "477ec2ed",
   "metadata": {},
   "source": [
    "# Dataset at a Glance"
   ]
  },
  {
   "cell_type": "code",
   "execution_count": 5,
   "id": "21206970",
   "metadata": {},
   "outputs": [
    {
     "name": "stdout",
     "output_type": "stream",
     "text": [
      "     age  anaemia  creatinine_phosphokinase  diabetes  ejection_fraction  high_blood_pressure  \\\n",
      "0   75.0        0                       582         0                 20                    1   \n",
      "1   55.0        0                      7861         0                 38                    0   \n",
      "2   65.0        0                       146         0                 20                    0   \n",
      "3   50.0        1                       111         0                 20                    0   \n",
      "4   65.0        1                       160         1                 20                    0   \n",
      "5   90.0        1                        47         0                 40                    1   \n",
      "6   75.0        1                       246         0                 15                    0   \n",
      "7   60.0        1                       315         1                 60                    0   \n",
      "8   65.0        0                       157         0                 65                    0   \n",
      "9   80.0        1                       123         0                 35                    1   \n",
      "10  75.0        1                        81         0                 38                    1   \n",
      "11  62.0        0                       231         0                 25                    1   \n",
      "12  45.0        1                       981         0                 30                    0   \n",
      "13  50.0        1                       168         0                 38                    1   \n",
      "14  49.0        1                        80         0                 30                    1   \n",
      "15  82.0        1                       379         0                 50                    0   \n",
      "16  87.0        1                       149         0                 38                    0   \n",
      "17  45.0        0                       582         0                 14                    0   \n",
      "18  70.0        1                       125         0                 25                    1   \n",
      "19  48.0        1                       582         1                 55                    0   \n",
      "\n",
      "    platelets  serum_creatinine  serum_sodium  sex  smoking  time  DEATH_EVENT  \n",
      "0   265000.00               1.9           130    1        0     4            1  \n",
      "1   263358.03               1.1           136    1        0     6            1  \n",
      "2   162000.00               1.3           129    1        1     7            1  \n",
      "3   210000.00               1.9           137    1        0     7            1  \n",
      "4   327000.00               2.7           116    0        0     8            1  \n",
      "5   204000.00               2.1           132    1        1     8            1  \n",
      "6   127000.00               1.2           137    1        0    10            1  \n",
      "7   454000.00               1.1           131    1        1    10            1  \n",
      "8   263358.03               1.5           138    0        0    10            1  \n",
      "9   388000.00               9.4           133    1        1    10            1  \n",
      "10  368000.00               4.0           131    1        1    10            1  \n",
      "11  253000.00               0.9           140    1        1    10            1  \n",
      "12  136000.00               1.1           137    1        0    11            1  \n",
      "13  276000.00               1.1           137    1        0    11            1  \n",
      "14  427000.00               1.0           138    0        0    12            0  \n",
      "15   47000.00               1.3           136    1        0    13            1  \n",
      "16  262000.00               0.9           140    1        0    14            1  \n",
      "17  166000.00               0.8           127    1        0    14            1  \n",
      "18  237000.00               1.0           140    0        0    15            1  \n",
      "19   87000.00               1.9           121    0        0    15            1  \n"
     ]
    }
   ],
   "source": [
    "set_option('display.width', 100)\n",
    "print(dataset.head(20))\n"
   ]
  },
  {
   "cell_type": "markdown",
   "id": "be0c3d68",
   "metadata": {},
   "source": [
    "# Statistical View"
   ]
  },
  {
   "cell_type": "code",
   "execution_count": 6,
   "id": "9122192a",
   "metadata": {},
   "outputs": [
    {
     "name": "stdout",
     "output_type": "stream",
     "text": [
      "           age  anaemia  creatinine_phosphokinase  diabetes  ejection_fraction  \\\n",
      "count  299.000  299.000                   299.000   299.000            299.000   \n",
      "mean    60.834    0.431                   581.839     0.418             38.084   \n",
      "std     11.895    0.496                   970.288     0.494             11.835   \n",
      "min     40.000    0.000                    23.000     0.000             14.000   \n",
      "25%     51.000    0.000                   116.500     0.000             30.000   \n",
      "50%     60.000    0.000                   250.000     0.000             38.000   \n",
      "75%     70.000    1.000                   582.000     1.000             45.000   \n",
      "max     95.000    1.000                  7861.000     1.000             80.000   \n",
      "\n",
      "       high_blood_pressure   platelets  serum_creatinine  serum_sodium      sex  smoking     time  \\\n",
      "count              299.000     299.000           299.000       299.000  299.000  299.000  299.000   \n",
      "mean                 0.351  263358.029             1.394       136.625    0.649    0.321  130.261   \n",
      "std                  0.478   97804.237             1.035         4.412    0.478    0.468   77.614   \n",
      "min                  0.000   25100.000             0.500       113.000    0.000    0.000    4.000   \n",
      "25%                  0.000  212500.000             0.900       134.000    0.000    0.000   73.000   \n",
      "50%                  0.000  262000.000             1.100       137.000    1.000    0.000  115.000   \n",
      "75%                  1.000  303500.000             1.400       140.000    1.000    1.000  203.000   \n",
      "max                  1.000  850000.000             9.400       148.000    1.000    1.000  285.000   \n",
      "\n",
      "       DEATH_EVENT  \n",
      "count      299.000  \n",
      "mean         0.321  \n",
      "std          0.468  \n",
      "min          0.000  \n",
      "25%          0.000  \n",
      "50%          0.000  \n",
      "75%          1.000  \n",
      "max          1.000  \n"
     ]
    }
   ],
   "source": [
    "set_option('precision', 3)\n",
    "print(dataset.describe())\n"
   ]
  },
  {
   "cell_type": "markdown",
   "id": "aaa2dde8",
   "metadata": {},
   "source": [
    "# Data Visualization"
   ]
  },
  {
   "cell_type": "code",
   "execution_count": 8,
   "id": "328eee4f",
   "metadata": {},
   "outputs": [
    {
     "data": {
      "image/png": "[encoded data removed]",
      "text/plain": [
       "<Figure size 936x648 with 16 Axes>"
      ]
     },
     "metadata": {
      "needs_background": "light"
     },
     "output_type": "display_data"
    }
   ],
   "source": [
    "#pyplot.figure(figsize=(14, 9))\n",
    "dataset.hist(sharex=False, sharey=False, xlabelsize=1, ylabelsize=1,figsize=(13, 9))\n",
    "pyplot.show()"
   ]
  },
  {
   "cell_type": "code",
   "execution_count": 9,
   "id": "e6b1e5e5",
   "metadata": {},
   "outputs": [
    {
     "data": {
      "image/png": "[encoded data removed]",
      "text/plain": [
       "<Figure size 936x648 with 64 Axes>"
      ]
     },
     "metadata": {
      "needs_background": "light"
     },
     "output_type": "display_data"
    }
   ],
   "source": [
    "dataset.plot(kind='density', subplots=True, layout=(8,8), sharex=False, legend=False,\n",
    "fontsize=1,figsize=(13, 9))\n",
    "pyplot.show()"
   ]
  },
  {
   "cell_type": "code",
   "execution_count": 10,
   "id": "264c6442",
   "metadata": {},
   "outputs": [
    {
     "data": {
      "image/png": "[encoded data removed]",
      "text/plain": [
       "<Figure size 936x648 with 64 Axes>"
      ]
     },
     "metadata": {
      "needs_background": "light"
     },
     "output_type": "display_data"
    }
   ],
   "source": [
    "dataset.plot(kind='box', subplots=True, layout=(8,8), sharex=False, sharey=False,\n",
    "fontsize=1,figsize=(13, 9))\n",
    "pyplot.show()\n"
   ]
  },
  {
   "cell_type": "code",
   "execution_count": 11,
   "id": "62694283",
   "metadata": {},
   "outputs": [
    {
     "data": {
      "image/png": "[encoded data removed]",
      "text/plain": [
       "<Figure size 720x720 with 2 Axes>"
      ]
     },
     "metadata": {
      "needs_background": "light"
     },
     "output_type": "display_data"
    }
   ],
   "source": [
    "#pyplot.figure(figsize=(14, 9))\n",
    "fig = pyplot.figure(figsize=(10, 10))\n",
    "ax = fig.add_subplot(111)\n",
    "cax = ax.matshow(dataset.corr(), vmin=-1, vmax=1, interpolation='none')\n",
    "fig.colorbar(cax)\n",
    "pyplot.show()\n"
   ]
  },
  {
   "cell_type": "markdown",
   "id": "e9539910",
   "metadata": {},
   "source": [
    "## Feature Selection"
   ]
  },
  {
   "cell_type": "code",
   "execution_count": 60,
   "id": "dbc83acf",
   "metadata": {},
   "outputs": [],
   "source": [
    "#array = dataset.values\n",
    "X = dataset.drop(columns=['DEATH_EVENT'])\n",
    "Y = dataset[\"DEATH_EVENT\"]"
   ]
  },
  {
   "cell_type": "code",
   "execution_count": 62,
   "id": "e39984d6",
   "metadata": {},
   "outputs": [
    {
     "data": {
      "text/plain": [
       "array([0.09271008, 0.01369991, 0.08302641, 0.01237474, 0.11250436,\n",
       "       0.01219695, 0.07994669, 0.14568132, 0.06914175, 0.01243236,\n",
       "       0.01181278, 0.35447265])"
      ]
     },
     "execution_count": 62,
     "metadata": {},
     "output_type": "execute_result"
    }
   ],
   "source": [
    "rf=RandomForestClassifier()\n",
    " \n",
    "rf.fit(X,Y)\n",
    "rf.feature_importances_"
   ]
  },
  {
   "cell_type": "code",
   "execution_count": 63,
   "id": "9b80734b",
   "metadata": {},
   "outputs": [
    {
     "data": {
      "text/plain": [
       "Text(0.5, 0, 'Random Forest Feature Importance')"
      ]
     },
     "execution_count": 63,
     "metadata": {},
     "output_type": "execute_result"
    },
    {
     "data": {
      "image/png": "[encoded data removed]",
      "text/plain": [
       "<Figure size 864x576 with 1 Axes>"
      ]
     },
     "metadata": {
      "needs_background": "light"
     },
     "output_type": "display_data"
    }
   ],
   "source": [
    "plt.figure(figsize=(12, 8))\n",
    "sorted_idx = rf.feature_importances_.argsort()\n",
    "plt.barh(dataset.columns[sorted_idx], rf.feature_importances_[sorted_idx])\n",
    "plt.xlabel(\"Random Forest Feature Importance\")"
   ]
  },
  {
   "cell_type": "code",
   "execution_count": 64,
   "id": "ae6143cf",
   "metadata": {},
   "outputs": [
    {
     "data": {
      "text/html": [
       "<div>\n",
       "<style scoped>\n",
       "    .dataframe tbody tr th:only-of-type {\n",
       "        vertical-align: middle;\n",
       "    }\n",
       "\n",
       "    .dataframe tbody tr th {\n",
       "        vertical-align: top;\n",
       "    }\n",
       "\n",
       "    .dataframe thead th {\n",
       "        text-align: right;\n",
       "    }\n",
       "</style>\n",
       "<table border=\"1\" class=\"dataframe\">\n",
       "  <thead>\n",
       "    <tr style=\"text-align: right;\">\n",
       "      <th></th>\n",
       "      <th>age</th>\n",
       "      <th>anaemia</th>\n",
       "      <th>creatinine_phosphokinase</th>\n",
       "      <th>ejection_fraction</th>\n",
       "      <th>platelets</th>\n",
       "      <th>serum_creatinine</th>\n",
       "      <th>serum_sodium</th>\n",
       "      <th>sex</th>\n",
       "      <th>time</th>\n",
       "    </tr>\n",
       "  </thead>\n",
       "  <tbody>\n",
       "    <tr>\n",
       "      <th>0</th>\n",
       "      <td>75.0</td>\n",
       "      <td>0</td>\n",
       "      <td>582</td>\n",
       "      <td>20</td>\n",
       "      <td>265000.00</td>\n",
       "      <td>1.9</td>\n",
       "      <td>130</td>\n",
       "      <td>1</td>\n",
       "      <td>4</td>\n",
       "    </tr>\n",
       "    <tr>\n",
       "      <th>1</th>\n",
       "      <td>55.0</td>\n",
       "      <td>0</td>\n",
       "      <td>7861</td>\n",
       "      <td>38</td>\n",
       "      <td>263358.03</td>\n",
       "      <td>1.1</td>\n",
       "      <td>136</td>\n",
       "      <td>1</td>\n",
       "      <td>6</td>\n",
       "    </tr>\n",
       "    <tr>\n",
       "      <th>2</th>\n",
       "      <td>65.0</td>\n",
       "      <td>0</td>\n",
       "      <td>146</td>\n",
       "      <td>20</td>\n",
       "      <td>162000.00</td>\n",
       "      <td>1.3</td>\n",
       "      <td>129</td>\n",
       "      <td>1</td>\n",
       "      <td>7</td>\n",
       "    </tr>\n",
       "    <tr>\n",
       "      <th>3</th>\n",
       "      <td>50.0</td>\n",
       "      <td>1</td>\n",
       "      <td>111</td>\n",
       "      <td>20</td>\n",
       "      <td>210000.00</td>\n",
       "      <td>1.9</td>\n",
       "      <td>137</td>\n",
       "      <td>1</td>\n",
       "      <td>7</td>\n",
       "    </tr>\n",
       "    <tr>\n",
       "      <th>4</th>\n",
       "      <td>65.0</td>\n",
       "      <td>1</td>\n",
       "      <td>160</td>\n",
       "      <td>20</td>\n",
       "      <td>327000.00</td>\n",
       "      <td>2.7</td>\n",
       "      <td>116</td>\n",
       "      <td>0</td>\n",
       "      <td>8</td>\n",
       "    </tr>\n",
       "  </tbody>\n",
       "</table>\n",
       "</div>"
      ],
      "text/plain": [
       "    age  anaemia  creatinine_phosphokinase  ejection_fraction  platelets  serum_creatinine  \\\n",
       "0  75.0        0                       582                 20  265000.00               1.9   \n",
       "1  55.0        0                      7861                 38  263358.03               1.1   \n",
       "2  65.0        0                       146                 20  162000.00               1.3   \n",
       "3  50.0        1                       111                 20  210000.00               1.9   \n",
       "4  65.0        1                       160                 20  327000.00               2.7   \n",
       "\n",
       "   serum_sodium  sex  time  \n",
       "0           130    1     4  \n",
       "1           136    1     6  \n",
       "2           129    1     7  \n",
       "3           137    1     7  \n",
       "4           116    0     8  "
      ]
     },
     "execution_count": 64,
     "metadata": {},
     "output_type": "execute_result"
    }
   ],
   "source": [
    "X = X.drop(columns=[\"smoking\",\"high_blood_pressure\",\"diabetes\"])\n",
    "X.head()"
   ]
  },
  {
   "cell_type": "markdown",
   "id": "f4cf3464",
   "metadata": {},
   "source": [
    "# Split the Dataset"
   ]
  },
  {
   "cell_type": "code",
   "execution_count": 65,
   "id": "77b754a7",
   "metadata": {},
   "outputs": [],
   "source": [
    "validation_size = 0.20\n",
    "seed = 7\n",
    "X_train, X_validation, Y_train, Y_validation = train_test_split(X, Y,\n",
    "test_size=validation_size, random_state=seed)\n",
    "num_folds = 10\n",
    "seed = 7\n",
    "scoring = 'accuracy'"
   ]
  },
  {
   "cell_type": "code",
   "execution_count": null,
   "id": "09c7ffca",
   "metadata": {},
   "outputs": [],
   "source": []
  },
  {
   "cell_type": "code",
   "execution_count": null,
   "id": "b022d7e0",
   "metadata": {},
   "outputs": [],
   "source": []
  },
  {
   "cell_type": "code",
   "execution_count": null,
   "id": "5fab1a38",
   "metadata": {},
   "outputs": [],
   "source": []
  },
  {
   "cell_type": "code",
   "execution_count": null,
   "id": "974a5e9e",
   "metadata": {},
   "outputs": [],
   "source": []
  },
  {
   "cell_type": "code",
   "execution_count": null,
   "id": "88478d2e",
   "metadata": {},
   "outputs": [],
   "source": []
  },
  {
   "cell_type": "markdown",
   "id": "826479ea",
   "metadata": {},
   "source": [
    "# Spot-Check Algorithms"
   ]
  },
  {
   "cell_type": "code",
   "execution_count": 72,
   "id": "77bf0e4f",
   "metadata": {},
   "outputs": [],
   "source": [
    "# Spot-Check Algorithms\n",
    "models = []\n",
    "models.append(('LR', LogisticRegression()))\n",
    "models.append(('LDA', LinearDiscriminantAnalysis()))\n",
    "models.append(('KNN', KNeighborsClassifier(n_neighbors=100)))\n",
    "models.append(('CART', DecisionTreeClassifier()))\n",
    "models.append(('NB', GaussianNB()))\n",
    "models.append(('SVM', SVC()))"
   ]
  },
  {
   "cell_type": "code",
   "execution_count": 86,
   "id": "1d899257",
   "metadata": {
    "scrolled": false
   },
   "outputs": [
    {
     "name": "stdout",
     "output_type": "stream",
     "text": [
      "                                                                                                            \n",
      "`````````````````````````````````````````````````````````````````````````````````````````````\n",
      "Algorithnm : LogisticRegression()\n",
      "`````````````````````````````````````````````````````````````````````````````````````````````\n",
      "Confusion Matrix:\n",
      "[[40  6]\n",
      " [ 5  9]]\n",
      "Classification Report:\n",
      "              precision    recall  f1-score   support\n",
      "\n",
      "           0       0.77      1.00      0.87        46\n",
      "           1       0.00      0.00      0.00        14\n",
      "\n",
      "    accuracy                           0.77        60\n",
      "   macro avg       0.38      0.50      0.43        60\n",
      "weighted avg       0.59      0.77      0.67        60\n",
      "\n",
      "R Squared = -0.02484472049689468\n",
      "MAE       = 0.18333333333333332\n",
      "MSE       = 0.18333333333333332\n",
      "Accuracy:   81.66666666666667 %\n",
      "LR: 0.787500 (0.080039)\n",
      "                                                                                                            \n",
      "`````````````````````````````````````````````````````````````````````````````````````````````\n",
      "Algorithnm : LinearDiscriminantAnalysis()\n",
      "`````````````````````````````````````````````````````````````````````````````````````````````\n",
      "Confusion Matrix:\n",
      "[[44  2]\n",
      " [ 4 10]]\n",
      "Classification Report:\n",
      "              precision    recall  f1-score   support\n",
      "\n",
      "           0       0.77      1.00      0.87        46\n",
      "           1       0.00      0.00      0.00        14\n",
      "\n",
      "    accuracy                           0.77        60\n",
      "   macro avg       0.38      0.50      0.43        60\n",
      "weighted avg       0.59      0.77      0.67        60\n",
      "\n",
      "R Squared = 0.4409937888198756\n",
      "MAE       = 0.1\n",
      "MSE       = 0.1\n",
      "Accuracy:   90.0 %\n",
      "LDA: 0.829167 (0.090235)\n"
     ]
    },
    {
     "name": "stderr",
     "output_type": "stream",
     "text": [
      "C:\\Users\\Administrator\\anaconda3\\lib\\site-packages\\sklearn\\linear_model\\_logistic.py:763: ConvergenceWarning: lbfgs failed to converge (status=1):\n",
      "STOP: TOTAL NO. of ITERATIONS REACHED LIMIT.\n",
      "\n",
      "Increase the number of iterations (max_iter) or scale the data as shown in:\n",
      "    https://scikit-learn.org/stable/modules/preprocessing.html\n",
      "Please also refer to the documentation for alternative solver options:\n",
      "    https://scikit-learn.org/stable/modules/linear_model.html#logistic-regression\n",
      "  n_iter_i = _check_optimize_result(\n",
      "C:\\Users\\Administrator\\anaconda3\\lib\\site-packages\\sklearn\\linear_model\\_logistic.py:763: ConvergenceWarning: lbfgs failed to converge (status=1):\n",
      "STOP: TOTAL NO. of ITERATIONS REACHED LIMIT.\n",
      "\n",
      "Increase the number of iterations (max_iter) or scale the data as shown in:\n",
      "    https://scikit-learn.org/stable/modules/preprocessing.html\n",
      "Please also refer to the documentation for alternative solver options:\n",
      "    https://scikit-learn.org/stable/modules/linear_model.html#logistic-regression\n",
      "  n_iter_i = _check_optimize_result(\n",
      "C:\\Users\\Administrator\\anaconda3\\lib\\site-packages\\sklearn\\linear_model\\_logistic.py:763: ConvergenceWarning: lbfgs failed to converge (status=1):\n",
      "STOP: TOTAL NO. of ITERATIONS REACHED LIMIT.\n",
      "\n",
      "Increase the number of iterations (max_iter) or scale the data as shown in:\n",
      "    https://scikit-learn.org/stable/modules/preprocessing.html\n",
      "Please also refer to the documentation for alternative solver options:\n",
      "    https://scikit-learn.org/stable/modules/linear_model.html#logistic-regression\n",
      "  n_iter_i = _check_optimize_result(\n",
      "C:\\Users\\Administrator\\anaconda3\\lib\\site-packages\\sklearn\\metrics\\_classification.py:1245: UndefinedMetricWarning: Precision and F-score are ill-defined and being set to 0.0 in labels with no predicted samples. Use `zero_division` parameter to control this behavior.\n",
      "  _warn_prf(average, modifier, msg_start, len(result))\n",
      "C:\\Users\\Administrator\\anaconda3\\lib\\site-packages\\sklearn\\metrics\\_classification.py:1245: UndefinedMetricWarning: Precision and F-score are ill-defined and being set to 0.0 in labels with no predicted samples. Use `zero_division` parameter to control this behavior.\n",
      "  _warn_prf(average, modifier, msg_start, len(result))\n",
      "C:\\Users\\Administrator\\anaconda3\\lib\\site-packages\\sklearn\\metrics\\_classification.py:1245: UndefinedMetricWarning: Precision and F-score are ill-defined and being set to 0.0 in labels with no predicted samples. Use `zero_division` parameter to control this behavior.\n",
      "  _warn_prf(average, modifier, msg_start, len(result))\n"
     ]
    },
    {
     "name": "stdout",
     "output_type": "stream",
     "text": [
      "                                                                                                            \n",
      "`````````````````````````````````````````````````````````````````````````````````````````````\n",
      "Algorithnm : KNeighborsClassifier(n_neighbors=100)\n",
      "`````````````````````````````````````````````````````````````````````````````````````````````\n",
      "Confusion Matrix:\n",
      "[[46  0]\n",
      " [14  0]]\n",
      "Classification Report:\n",
      "              precision    recall  f1-score   support\n",
      "\n",
      "           0       0.77      1.00      0.87        46\n",
      "           1       0.00      0.00      0.00        14\n",
      "\n",
      "    accuracy                           0.77        60\n",
      "   macro avg       0.38      0.50      0.43        60\n",
      "weighted avg       0.59      0.77      0.67        60\n",
      "\n",
      "R Squared = -0.30434782608695676\n",
      "MAE       = 0.23333333333333334\n",
      "MSE       = 0.23333333333333334\n",
      "Accuracy:   76.66666666666667 %\n",
      "KNN: 0.656884 (0.080762)\n",
      "                                                                                                            \n",
      "`````````````````````````````````````````````````````````````````````````````````````````````\n",
      "Algorithnm : DecisionTreeClassifier()\n",
      "`````````````````````````````````````````````````````````````````````````````````````````````\n",
      "Confusion Matrix:\n",
      "[[42  4]\n",
      " [ 5  9]]\n",
      "Classification Report:\n",
      "              precision    recall  f1-score   support\n",
      "\n",
      "           0       0.77      1.00      0.87        46\n",
      "           1       0.00      0.00      0.00        14\n",
      "\n",
      "    accuracy                           0.77        60\n",
      "   macro avg       0.38      0.50      0.43        60\n",
      "weighted avg       0.59      0.77      0.67        60\n",
      "\n",
      "R Squared = 0.16149068322981341\n",
      "MAE       = 0.15\n",
      "MSE       = 0.15\n",
      "Accuracy:   85.0 %\n",
      "CART: 0.770471 (0.096733)\n",
      "                                                                                                            \n",
      "`````````````````````````````````````````````````````````````````````````````````````````````\n",
      "Algorithnm : GaussianNB()\n",
      "`````````````````````````````````````````````````````````````````````````````````````````````\n",
      "Confusion Matrix:\n",
      "[[45  1]\n",
      " [ 4 10]]\n",
      "Classification Report:\n",
      "              precision    recall  f1-score   support\n",
      "\n",
      "           0       0.77      1.00      0.87        46\n",
      "           1       0.00      0.00      0.00        14\n",
      "\n",
      "    accuracy                           0.77        60\n",
      "   macro avg       0.38      0.50      0.43        60\n",
      "weighted avg       0.59      0.77      0.67        60\n",
      "\n",
      "R Squared = 0.5341614906832297\n",
      "MAE       = 0.08333333333333333\n",
      "MSE       = 0.08333333333333333\n",
      "Accuracy:   91.66666666666666 %\n",
      "NB: 0.799819 (0.086674)\n",
      "                                                                                                            \n",
      "`````````````````````````````````````````````````````````````````````````````````````````````\n",
      "Algorithnm : SVC()\n",
      "`````````````````````````````````````````````````````````````````````````````````````````````\n",
      "Confusion Matrix:\n",
      "[[46  0]\n",
      " [14  0]]\n",
      "Classification Report:\n",
      "              precision    recall  f1-score   support\n",
      "\n",
      "           0       0.77      1.00      0.87        46\n",
      "           1       0.00      0.00      0.00        14\n",
      "\n",
      "    accuracy                           0.77        60\n",
      "   macro avg       0.38      0.50      0.43        60\n",
      "weighted avg       0.59      0.77      0.67        60\n",
      "\n",
      "R Squared = -0.30434782608695676\n",
      "MAE       = 0.23333333333333334\n",
      "MSE       = 0.23333333333333334\n",
      "Accuracy:   76.66666666666667 %\n",
      "SVM: 0.656884 (0.080762)\n"
     ]
    },
    {
     "name": "stderr",
     "output_type": "stream",
     "text": [
      "C:\\Users\\Administrator\\anaconda3\\lib\\site-packages\\sklearn\\metrics\\_classification.py:1245: UndefinedMetricWarning: Precision and F-score are ill-defined and being set to 0.0 in labels with no predicted samples. Use `zero_division` parameter to control this behavior.\n",
      "  _warn_prf(average, modifier, msg_start, len(result))\n",
      "C:\\Users\\Administrator\\anaconda3\\lib\\site-packages\\sklearn\\metrics\\_classification.py:1245: UndefinedMetricWarning: Precision and F-score are ill-defined and being set to 0.0 in labels with no predicted samples. Use `zero_division` parameter to control this behavior.\n",
      "  _warn_prf(average, modifier, msg_start, len(result))\n",
      "C:\\Users\\Administrator\\anaconda3\\lib\\site-packages\\sklearn\\metrics\\_classification.py:1245: UndefinedMetricWarning: Precision and F-score are ill-defined and being set to 0.0 in labels with no predicted samples. Use `zero_division` parameter to control this behavior.\n",
      "  _warn_prf(average, modifier, msg_start, len(result))\n"
     ]
    }
   ],
   "source": [
    "results = []\n",
    "names = []\n",
    "for name, model in models:\n",
    "    model.fit(X_train,Y_train)\n",
    "    lprediction=model.predict(X_validation)\n",
    "    result = confusion_matrix(Y_validation, lprediction)\n",
    "    print(\"                                                                                                            \")\n",
    "    print(\"`````````````````````````````````````````````````````````````````````````````````````````````\")\n",
    "    print(\"Algorithnm :\",model)\n",
    "    print(\"`````````````````````````````````````````````````````````````````````````````````````````````\")\n",
    "    print(\"Confusion Matrix:\")\n",
    "    print(result)\n",
    "    result1 = classification_report(Y_validation, lprediction)\n",
    "    print(\"Classification Report:\",)\n",
    "    print (lresult1)\n",
    "    result2 = accuracy_score(Y_validation,lprediction)\n",
    "    print ('R Squared =',r2_score(Y_validation, lprediction))\n",
    "    print ('MAE       =',mean_absolute_error(Y_validation, lprediction))\n",
    "    print ('MSE       =',mean_squared_error(Y_validation, lprediction))\n",
    "    print(\"Accuracy:  \",result2*100,\"%\")\n",
    "    kfold = KFold(n_splits=num_folds, random_state=seed,shuffle=True)\n",
    "    cv_results = cross_val_score(model, X_train, Y_train, cv=kfold, scoring=scoring)\n",
    "    results.append(cv_results)\n",
    "    names.append(name)\n",
    "    msg = \"%s: %f (%f)\" % (name, cv_results.mean(), cv_results.std())\n",
    "    print(msg)"
   ]
  },
  {
   "cell_type": "markdown",
   "id": "732718cd",
   "metadata": {},
   "source": [
    "# Model Evaluation in Loop"
   ]
  },
  {
   "cell_type": "code",
   "execution_count": 87,
   "id": "018f4a8d",
   "metadata": {},
   "outputs": [
    {
     "name": "stderr",
     "output_type": "stream",
     "text": [
      "C:\\Users\\Administrator\\anaconda3\\lib\\site-packages\\sklearn\\linear_model\\_logistic.py:763: ConvergenceWarning: lbfgs failed to converge (status=1):\n",
      "STOP: TOTAL NO. of ITERATIONS REACHED LIMIT.\n",
      "\n",
      "Increase the number of iterations (max_iter) or scale the data as shown in:\n",
      "    https://scikit-learn.org/stable/modules/preprocessing.html\n",
      "Please also refer to the documentation for alternative solver options:\n",
      "    https://scikit-learn.org/stable/modules/linear_model.html#logistic-regression\n",
      "  n_iter_i = _check_optimize_result(\n",
      "C:\\Users\\Administrator\\anaconda3\\lib\\site-packages\\sklearn\\linear_model\\_logistic.py:763: ConvergenceWarning: lbfgs failed to converge (status=1):\n",
      "STOP: TOTAL NO. of ITERATIONS REACHED LIMIT.\n",
      "\n",
      "Increase the number of iterations (max_iter) or scale the data as shown in:\n",
      "    https://scikit-learn.org/stable/modules/preprocessing.html\n",
      "Please also refer to the documentation for alternative solver options:\n",
      "    https://scikit-learn.org/stable/modules/linear_model.html#logistic-regression\n",
      "  n_iter_i = _check_optimize_result(\n",
      "C:\\Users\\Administrator\\anaconda3\\lib\\site-packages\\sklearn\\linear_model\\_logistic.py:763: ConvergenceWarning: lbfgs failed to converge (status=1):\n",
      "STOP: TOTAL NO. of ITERATIONS REACHED LIMIT.\n",
      "\n",
      "Increase the number of iterations (max_iter) or scale the data as shown in:\n",
      "    https://scikit-learn.org/stable/modules/preprocessing.html\n",
      "Please also refer to the documentation for alternative solver options:\n",
      "    https://scikit-learn.org/stable/modules/linear_model.html#logistic-regression\n",
      "  n_iter_i = _check_optimize_result(\n"
     ]
    },
    {
     "name": "stdout",
     "output_type": "stream",
     "text": [
      "LR: 0.787500 (0.080039)\n",
      "LDA: 0.829167 (0.090235)\n",
      "KNN: 0.656884 (0.080762)\n",
      "CART: 0.749457 (0.096134)\n",
      "NB: 0.799819 (0.086674)\n",
      "SVM: 0.656884 (0.080762)\n"
     ]
    }
   ],
   "source": [
    "results = []\n",
    "names = []\n",
    "for name, model in models:\n",
    "    kfold = KFold(n_splits=num_folds, random_state=seed,shuffle=True)\n",
    "    cv_results = cross_val_score(model, X_train, Y_train, cv=kfold, scoring=scoring)\n",
    "    results.append(cv_results)\n",
    "    names.append(name)\n",
    "    msg = \"%s: %f (%f)\" % (name, cv_results.mean(), cv_results.std())\n",
    "    print(msg)"
   ]
  },
  {
   "cell_type": "markdown",
   "id": "00f18a7d",
   "metadata": {},
   "source": [
    "# Compare Algos"
   ]
  },
  {
   "cell_type": "code",
   "execution_count": 82,
   "id": "f0c0ba41",
   "metadata": {},
   "outputs": [
    {
     "data": {
      "image/png": "[encoded data removed]",
      "text/plain": [
       "<Figure size 1008x648 with 1 Axes>"
      ]
     },
     "metadata": {
      "needs_background": "light"
     },
     "output_type": "display_data"
    }
   ],
   "source": [
    "fig = pyplot.figure(figsize=(14, 9))\n",
    "fig.suptitle('Algorithm Comparison')\n",
    "ax = fig.add_subplot(111)\n",
    "pyplot.boxplot(results)\n",
    "ax.set_xticklabels(names)\n",
    "pyplot.show()"
   ]
  },
  {
   "cell_type": "markdown",
   "id": "1d809e40",
   "metadata": {},
   "source": [
    "# Standardize the Dataset"
   ]
  },
  {
   "cell_type": "code",
   "execution_count": 83,
   "id": "37ee2804",
   "metadata": {},
   "outputs": [
    {
     "name": "stdout",
     "output_type": "stream",
     "text": [
      "ScaledLR: 0.829167 (0.082180)\n",
      "ScaledLDA: 0.829167 (0.090235)\n",
      "ScaledKNN: 0.744928 (0.093601)\n",
      "ScaledCART: 0.757790 (0.088275)\n",
      "ScaledNB: 0.741123 (0.107675)\n",
      "ScaledSVM: 0.791667 (0.111803)\n"
     ]
    }
   ],
   "source": [
    "# Standardize the dataset\n",
    "pipelines = []\n",
    "pipelines.append(('ScaledLR', Pipeline([('Scaler', StandardScaler()),('LR',\n",
    "    LogisticRegression())])))\n",
    "pipelines.append(('ScaledLDA', Pipeline([('Scaler', StandardScaler()),('LDA',\n",
    "    LinearDiscriminantAnalysis())])))\n",
    "pipelines.append(('ScaledKNN', Pipeline([('Scaler', StandardScaler()),('KNN',\n",
    "    KNeighborsClassifier())])))\n",
    "pipelines.append(('ScaledCART', Pipeline([('Scaler', StandardScaler()),('CART',\n",
    "    DecisionTreeClassifier())])))\n",
    "pipelines.append(('ScaledNB', Pipeline([('Scaler', StandardScaler()),('NB',\n",
    "    GaussianNB())])))\n",
    "pipelines.append(('ScaledSVM', Pipeline([('Scaler', StandardScaler()),('SVM', SVC())])))\n",
    "results = []\n",
    "names = []\n",
    "for name, model in pipelines:\n",
    "    kfold = KFold(n_splits=num_folds, random_state=seed,shuffle=True)\n",
    "    cv_results = cross_val_score(model, X_train, Y_train, cv=kfold, scoring=scoring)\n",
    "    results.append(cv_results)\n",
    "    names.append(name)\n",
    "    msg = \"%s: %f (%f)\" % (name, cv_results.mean(), cv_results.std())\n",
    "    print(msg)\n",
    "    #print(cv_results.mean())\n",
    "    #print(f\"Algo Name :{name}, Cross val Score :{cv_results.mean()}, Cross Val Std :{cv_results.std()}\")"
   ]
  },
  {
   "cell_type": "markdown",
   "id": "65569ccd",
   "metadata": {},
   "source": [
    "# Compare Algorithms"
   ]
  },
  {
   "cell_type": "code",
   "execution_count": 85,
   "id": "d9bf4a8d",
   "metadata": {},
   "outputs": [
    {
     "data": {
      "image/png": "[encoded data removed]",
      "text/plain": [
       "<Figure size 1008x648 with 1 Axes>"
      ]
     },
     "metadata": {
      "needs_background": "light"
     },
     "output_type": "display_data"
    }
   ],
   "source": [
    "# Compare Algorithms\n",
    "fig = pyplot.figure(figsize=(14, 9))\n",
    "fig.suptitle('Scaled Algorithm Comparison')\n",
    "ax = fig.add_subplot(111)\n",
    "pyplot.boxplot(results)\n",
    "ax.set_xticklabels(names)\n",
    "pyplot.show()"
   ]
  },
  {
   "cell_type": "markdown",
   "id": "f56a4fe8",
   "metadata": {},
   "source": [
    "# Tuning KNN"
   ]
  },
  {
   "cell_type": "code",
   "execution_count": 23,
   "id": "91d2244a",
   "metadata": {},
   "outputs": [
    {
     "name": "stdout",
     "output_type": "stream",
     "text": [
      "Best: 0.740761 using {'n_neighbors': 11}\n",
      "0.619203 (0.077906) with: {'n_neighbors': 1}\n",
      "0.669565 (0.085833) with: {'n_neighbors': 3}\n",
      "0.698913 (0.092266) with: {'n_neighbors': 5}\n",
      "0.682428 (0.096206) with: {'n_neighbors': 7}\n",
      "0.711775 (0.111740) with: {'n_neighbors': 9}\n",
      "0.740761 (0.078086) with: {'n_neighbors': 11}\n",
      "0.728623 (0.084986) with: {'n_neighbors': 13}\n",
      "0.736957 (0.088638) with: {'n_neighbors': 15}\n",
      "0.732790 (0.084910) with: {'n_neighbors': 17}\n",
      "0.736775 (0.082630) with: {'n_neighbors': 19}\n",
      "0.736775 (0.086730) with: {'n_neighbors': 21}\n"
     ]
    }
   ],
   "source": [
    "# Tune scaled KNN\n",
    "scaler = StandardScaler().fit(X_train)\n",
    "rescaledX = scaler.transform(X_train)\n",
    "neighbors = [1,3,5,7,9,11,13,15,17,19,21]\n",
    "param_grid = dict(n_neighbors=neighbors)\n",
    "model = KNeighborsClassifier()\n",
    "kfold = KFold(n_splits=num_folds, random_state=seed,shuffle=True)\n",
    "grid = GridSearchCV(estimator=model, param_grid=param_grid, scoring=scoring, cv=kfold)\n",
    "grid_result = grid.fit(rescaledX, Y_train)\n",
    "print(\"Best: %f using %s\" % (grid_result.best_score_, grid_result.best_params_))\n",
    "means = grid_result.cv_results_['mean_test_score']\n",
    "stds = grid_result.cv_results_['std_test_score']\n",
    "params = grid_result.cv_results_['params']\n",
    "for mean, stdev, param in zip(means, stds, params):\n",
    "    print(\"%f (%f) with: %r\" % (mean, stdev, param))\n"
   ]
  },
  {
   "cell_type": "markdown",
   "id": "1c2ee60b",
   "metadata": {},
   "source": [
    "# Tuning SVM"
   ]
  },
  {
   "cell_type": "code",
   "execution_count": 24,
   "id": "2bfc1e7a",
   "metadata": {},
   "outputs": [
    {
     "name": "stdout",
     "output_type": "stream",
     "text": [
      "Best: 0.841486 using {'C': 2.0, 'kernel': 'sigmoid'}\n",
      "0.791304 (0.096362) with: {'C': 0.1, 'kernel': 'linear'}\n",
      "0.669565 (0.083786) with: {'C': 0.1, 'kernel': 'poly'}\n",
      "0.656884 (0.080762) with: {'C': 0.1, 'kernel': 'rbf'}\n",
      "0.698913 (0.080186) with: {'C': 0.1, 'kernel': 'sigmoid'}\n",
      "0.791304 (0.090796) with: {'C': 0.3, 'kernel': 'linear'}\n",
      "0.686232 (0.074860) with: {'C': 0.3, 'kernel': 'poly'}\n",
      "0.732428 (0.093015) with: {'C': 0.3, 'kernel': 'rbf'}\n",
      "0.799819 (0.111236) with: {'C': 0.3, 'kernel': 'sigmoid'}\n",
      "0.791304 (0.090796) with: {'C': 0.5, 'kernel': 'linear'}\n",
      "0.724094 (0.106838) with: {'C': 0.5, 'kernel': 'poly'}\n",
      "0.745471 (0.100514) with: {'C': 0.5, 'kernel': 'rbf'}\n",
      "0.799819 (0.088654) with: {'C': 0.5, 'kernel': 'sigmoid'}\n",
      "0.782971 (0.088438) with: {'C': 0.7, 'kernel': 'linear'}\n",
      "0.741123 (0.109275) with: {'C': 0.7, 'kernel': 'poly'}\n",
      "0.762138 (0.101605) with: {'C': 0.7, 'kernel': 'rbf'}\n",
      "0.795471 (0.081652) with: {'C': 0.7, 'kernel': 'sigmoid'}\n",
      "0.782971 (0.088438) with: {'C': 0.9, 'kernel': 'linear'}\n",
      "0.753623 (0.103882) with: {'C': 0.9, 'kernel': 'poly'}\n",
      "0.770471 (0.111724) with: {'C': 0.9, 'kernel': 'rbf'}\n",
      "0.782971 (0.097762) with: {'C': 0.9, 'kernel': 'sigmoid'}\n",
      "0.787138 (0.085764) with: {'C': 1.0, 'kernel': 'linear'}\n",
      "0.749457 (0.106420) with: {'C': 1.0, 'kernel': 'poly'}\n",
      "0.770290 (0.105296) with: {'C': 1.0, 'kernel': 'rbf'}\n",
      "0.791304 (0.084866) with: {'C': 1.0, 'kernel': 'sigmoid'}\n",
      "0.787138 (0.085764) with: {'C': 1.3, 'kernel': 'linear'}\n",
      "0.749457 (0.106420) with: {'C': 1.3, 'kernel': 'poly'}\n",
      "0.770290 (0.105296) with: {'C': 1.3, 'kernel': 'rbf'}\n",
      "0.803804 (0.085022) with: {'C': 1.3, 'kernel': 'sigmoid'}\n",
      "0.787138 (0.085764) with: {'C': 1.5, 'kernel': 'linear'}\n",
      "0.757790 (0.088275) with: {'C': 1.5, 'kernel': 'poly'}\n",
      "0.766123 (0.108443) with: {'C': 1.5, 'kernel': 'rbf'}\n",
      "0.816304 (0.085380) with: {'C': 1.5, 'kernel': 'sigmoid'}\n",
      "0.787138 (0.085764) with: {'C': 1.7, 'kernel': 'linear'}\n",
      "0.774638 (0.085203) with: {'C': 1.7, 'kernel': 'poly'}\n",
      "0.778804 (0.101664) with: {'C': 1.7, 'kernel': 'rbf'}\n",
      "0.812138 (0.069811) with: {'C': 1.7, 'kernel': 'sigmoid'}\n",
      "0.791304 (0.082795) with: {'C': 2.0, 'kernel': 'linear'}\n",
      "0.782971 (0.075749) with: {'C': 2.0, 'kernel': 'poly'}\n",
      "0.778804 (0.101664) with: {'C': 2.0, 'kernel': 'rbf'}\n",
      "0.841486 (0.066351) with: {'C': 2.0, 'kernel': 'sigmoid'}\n"
     ]
    }
   ],
   "source": [
    "# Tune scaled SVM\n",
    "scaler = StandardScaler().fit(X_train)\n",
    "rescaledX = scaler.transform(X_train)\n",
    "c_values = [0.1, 0.3, 0.5, 0.7, 0.9, 1.0, 1.3, 1.5, 1.7, 2.0]\n",
    "kernel_values = ['linear', 'poly', 'rbf', 'sigmoid']\n",
    "param_grid = dict(C=c_values, kernel=kernel_values)\n",
    "model = SVC()\n",
    "kfold = KFold(n_splits=num_folds, random_state=seed,shuffle=True)\n",
    "grid = GridSearchCV(estimator=model, param_grid=param_grid, scoring=scoring, cv=kfold)\n",
    "grid_result = grid.fit(rescaledX, Y_train)\n",
    "print(\"Best: %f using %s\" % (grid_result.best_score_, grid_result.best_params_))\n",
    "means = grid_result.cv_results_['mean_test_score']\n",
    "stds = grid_result.cv_results_['std_test_score']\n",
    "params = grid_result.cv_results_['params']\n",
    "for mean, stdev, param in zip(means, stds, params):\n",
    "    print(\"%f (%f) with: %r\" % (mean, stdev, param))"
   ]
  },
  {
   "cell_type": "code",
   "execution_count": 25,
   "id": "1d31bb95",
   "metadata": {},
   "outputs": [
    {
     "name": "stdout",
     "output_type": "stream",
     "text": [
      "AB: 0.783333 (0.090906)\n",
      "GBM: 0.770471 (0.072046)\n",
      "RF: 0.828986 (0.077540)\n",
      "ET: 0.791486 (0.098296)\n"
     ]
    }
   ],
   "source": [
    "# ensembles\n",
    "ensembles = []\n",
    "ensembles.append(('AB', AdaBoostClassifier()))\n",
    "ensembles.append(('GBM', GradientBoostingClassifier()))\n",
    "ensembles.append(('RF', RandomForestClassifier()))\n",
    "ensembles.append(('ET', ExtraTreesClassifier()))\n",
    "results = []\n",
    "names = []\n",
    "for name, model in ensembles:\n",
    "    kfold = KFold(n_splits=num_folds, random_state=seed,shuffle=True)\n",
    "    cv_results = cross_val_score(model, X_train, Y_train, cv=kfold, scoring=scoring)\n",
    "    results.append(cv_results)\n",
    "    names.append(name)\n",
    "    msg = \"%s: %f (%f)\" % (name, cv_results.mean(), cv_results.std())\n",
    "    print(msg)"
   ]
  },
  {
   "cell_type": "code",
   "execution_count": 26,
   "id": "43c7d8b6",
   "metadata": {},
   "outputs": [
    {
     "data": {
      "image/png": "[encoded data removed]",
      "text/plain": [
       "<Figure size 1008x648 with 1 Axes>"
      ]
     },
     "metadata": {
      "needs_background": "light"
     },
     "output_type": "display_data"
    }
   ],
   "source": [
    "# Compare Algorithms\n",
    "fig = pyplot.figure(figsize=(14, 9))\n",
    "fig.suptitle('Ensemble Algorithm Comparison')\n",
    "ax = fig.add_subplot(111)\n",
    "pyplot.boxplot(results)\n",
    "ax.set_xticklabels(names)\n",
    "pyplot.show()"
   ]
  },
  {
   "cell_type": "code",
   "execution_count": 47,
   "id": "92e53a71",
   "metadata": {},
   "outputs": [
    {
     "name": "stdout",
     "output_type": "stream",
     "text": [
      "Accuracy : 0.9166666666666666\n",
      "[[45  1]\n",
      " [ 4 10]]\n",
      "              precision    recall  f1-score   support\n",
      "\n",
      "         0.0       0.92      0.98      0.95        46\n",
      "         1.0       0.91      0.71      0.80        14\n",
      "\n",
      "    accuracy                           0.92        60\n",
      "   macro avg       0.91      0.85      0.87        60\n",
      "weighted avg       0.92      0.92      0.91        60\n",
      "\n"
     ]
    }
   ],
   "source": [
    "# prepare the model\n",
    "scaler = StandardScaler().fit(X_train)\n",
    "rescaledX = scaler.transform(X_train)\n",
    "#model = KNeighborsClassifier(n_neighbors=9)\n",
    "model= SVC()\n",
    "model.fit(rescaledX, Y_train)\n",
    "# estimate accuracy on validation dataset\n",
    "rescaledValidationX = scaler.transform(X_validation)\n",
    "predictions = model.predict(rescaledValidationX)\n",
    "print(\"Accuracy :\",accuracy_score(Y_validation, predictions))\n",
    "print(confusion_matrix(Y_validation, predictions))\n",
    "print(classification_report(Y_validation, predictions))"
   ]
  },
  {
   "cell_type": "code",
   "execution_count": null,
   "id": "45151767",
   "metadata": {},
   "outputs": [],
   "source": []
  }
 ],
 "metadata": {
  "kernelspec": {
   "display_name": "Python 3",
   "language": "python",
   "name": "python3"
  },
  "language_info": {
   "codemirror_mode": {
    "name": "ipython",
    "version": 3
   },
   "file_extension": ".py",
   "mimetype": "text/x-python",
   "name": "python",
   "nbconvert_exporter": "python",
   "pygments_lexer": "ipython3",
   "version": "3.8.8"
  }
 },
 "nbformat": 4,
 "nbformat_minor": 5
}
